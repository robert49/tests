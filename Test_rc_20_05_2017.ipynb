{
 "cells": [
  {
   "cell_type": "markdown",
   "metadata": {},
   "source": [
    "# Simulation d'un revenu de base financé par la CSG"
   ]
  },
  {
   "cell_type": "markdown",
   "metadata": {},
   "source": [
    "### Test de prise en compte du revenu net au lieu du revenu imposable dans le revenu disponible"
   ]
  },
  {
   "cell_type": "code",
   "execution_count": 31,
   "metadata": {
    "collapsed": true
   },
   "outputs": [],
   "source": [
    "# Hypothèses retenues pour la réforme simulée :\n",
    "\n",
    "#  Maintien de l'IRPP\n",
    "#- Hausse de la CSG imposable au taux de 23.333% (+ 5.1% le taux actuel)\n",
    "#- Suppression de la CSG dductible\n",
    "#- Mise en place d'un revenu de base adulte et d'un revenu de base enfant : attention, le montant de la csg déductible \n",
    "#  complémentaire est bien évidemment fonction du montant du revenu de base à financer, et son calcul se fait sur la base \n",
    "#  du besoin d'équilibrage des finances publiques qui est à calculer en dehors de ce notebook.\n",
    "#- Intégration du revenu de base, adulte et enfants, au revenu disponible\n",
    "#- Suppression du RSA, des allocations familiales, du complément familial, de l'ars et de la prime d'activités\n",
    "\n",
    "# Le notebook est organisé de la manière suivante :\n",
    "# 1. Système socio-fiscal : appel de tax_benefit_system et initialisation des principales variables\n",
    "# 2. Réforme permettant de créer les class des nouvelles variables et d'en modifier certaines existant déjà dans tax_benefit_system\n",
    "# 3. Tests permettant, sur la base de montants de salaires fixes, de tester les variables dans la situation actuelle et dans la situation avec réforme\n",
    "\n"
   ]
  },
  {
   "cell_type": "code",
   "execution_count": 32,
   "metadata": {
    "collapsed": false
   },
   "outputs": [],
   "source": [
    "from datetime import date\n",
    "import json\n",
    "import openfisca_france\n",
    "from openfisca_france.model.base import * \n",
    "import csv\n",
    "import pandas as pd\n",
    "import matplotlib.pyplot as plt\n",
    "%matplotlib inline\n",
    "import numpy as np\n",
    "from numpy import round\n",
    "\n",
    "# to debug / trace\n",
    "from openfisca_core import periods,tools\n",
    "from openfisca_core.reforms import Reform"
   ]
  },
  {
   "cell_type": "markdown",
   "metadata": {},
   "source": [
    "## 1. Système socio-fiscal"
   ]
  },
  {
   "cell_type": "code",
   "execution_count": 33,
   "metadata": {
    "collapsed": false
   },
   "outputs": [],
   "source": [
    "tax_benefit_system = openfisca_france.FranceTaxBenefitSystem()"
   ]
  },
  {
   "cell_type": "code",
   "execution_count": 34,
   "metadata": {
    "collapsed": true
   },
   "outputs": [],
   "source": [
    "# Initialisation des varialbes relatives au montant du revenu de base et au taux de la csg déductible complémentaire\n",
    "\n",
    "rdb_adulte = 500\n",
    "rdb_enfant_0_a_18 = 250\n",
    "csg_deduc_complem = 0.28433"
   ]
  },
  {
   "cell_type": "code",
   "execution_count": 35,
   "metadata": {
    "collapsed": false
   },
   "outputs": [
    {
     "data": {
      "text/plain": [
       "18"
      ]
     },
     "execution_count": 35,
     "metadata": {},
     "output_type": "execute_result"
    }
   ],
   "source": [
    "#Initialisation de la fourchette des salaires à simuler et du calcul du nombre de pas à itérer\n",
    "\n",
    "min_salaire_de_base = 0\n",
    "max_salaire_de_base = 100000\n",
    "pas =450*12\n",
    "nb_palier = max_salaire_de_base / pas\n",
    "nb_palier"
   ]
  },
  {
   "cell_type": "code",
   "execution_count": 36,
   "metadata": {
    "collapsed": true
   },
   "outputs": [],
   "source": [
    "period = 2016"
   ]
  },
  {
   "cell_type": "code",
   "execution_count": 37,
   "metadata": {
    "collapsed": false
   },
   "outputs": [],
   "source": [
    "#- Modification du montant du paramètre csg.activite.deductible.taux destiné à financer le revenu de base\n",
    "\n",
    "def modify_legislation_json(reference_legislation_json_copy):\n",
    "    for value_json in reference_legislation_json_copy['children']['prelevements_sociaux']['children']['contributions']['children']['csg']['children']['activite']['children']['imposable']['children']['taux']['values']:\n",
    "        value_json['value'] = csg_deduc_complem\n",
    "    for value_json in reference_legislation_json_copy['children']['prelevements_sociaux']['children']['contributions']['children']['csg']['children']['activite']['children']['deductible']['children']['taux']['values']:\n",
    "        value_json['value'] = 0\n",
    "        \n",
    "    return reference_legislation_json_copy"
   ]
  },
  {
   "cell_type": "markdown",
   "metadata": {},
   "source": [
    "## 2. Réforme : Revenu de base par CSG"
   ]
  },
  {
   "cell_type": "code",
   "execution_count": 38,
   "metadata": {
    "collapsed": false
   },
   "outputs": [],
   "source": [
    "#- Mise en place d'un revenu de base adulte \n",
    "\n",
    "class rdb(Variable):\n",
    "    column = FloatCol\n",
    "    entity = Individu\n",
    "    label = u\"Revenu de base\"\n",
    "    definition_period = MONTH\n",
    "       \n",
    "    def function(individu, period, legislation):\n",
    "        period = period.start.offset('first-of', 'month').period('month')\n",
    "        age = individu('age', period) \n",
    "        return ((age >= 18) * rdb_adulte  + not_(age >= 18) * 0)"
   ]
  },
  {
   "cell_type": "code",
   "execution_count": 39,
   "metadata": {
    "collapsed": true
   },
   "outputs": [],
   "source": [
    "# Mise en place d'un revenu de base enfant\n",
    "\n",
    "class rdb_enf(Variable):\n",
    "    column = FloatCol\n",
    "    entity = Individu\n",
    "    label = u\"Revenu de base enfant\"\n",
    "    definition_period = MONTH\n",
    "\n",
    "    def function(individu, period, legislation):\n",
    "        period = period.start.offset('first-of', 'month').period('month')\n",
    "        age = individu('age', period)\n",
    "        return ((age < 14) * rdb_enfant_0_a_18 + not_(age < 14) * 250) * (age <= 18)"
   ]
  },
  {
   "cell_type": "code",
   "execution_count": 40,
   "metadata": {
    "collapsed": false
   },
   "outputs": [],
   "source": [
    "# Ajout du revenu de base adulte et enfant au revenu disponible\n",
    "# Ajout de \"csg_imposable_salaire + csg_imposable_retraite + crds\" pour prise en compte des revenus nets et non plus des revenus imposables\n",
    "\n",
    "class revenu_disponible(Variable):\n",
    "    column = FloatCol\n",
    "    entity = Menage\n",
    "    label = u\"Revenu disponible du ménage\"\n",
    "    url = \"http://fr.wikipedia.org/wiki/Revenu_disponible\"\n",
    "    definition_period = YEAR\n",
    "\n",
    "    def function(self, simulation, period):\n",
    "        revenus_du_travail_holder = simulation.compute('revenus_du_travail', period)\n",
    "        pen_holder = simulation.compute('pensions', period)\n",
    "        rev_cap_holder = simulation.compute('revenus_du_capital', period)\n",
    "        prestations_sociales_holder = simulation.compute('prestations_sociales', period)\n",
    "        ppe_holder = simulation.compute('ppe', period)\n",
    "        impots_directs = simulation.calculate('impots_directs', period)\n",
    "        rdb_holder = simulation.calculate_add('rdb', period)\n",
    "        rdb_enf_holder = simulation.calculate_add('rdb_enf', period)\n",
    "        csg_imposable_salaire_holder = simulation.calculate_add('csg_imposable_salaire', period)\n",
    "        csg_imposable_retraite_holder = simulation.calculate_add('csg_imposable_retraite', period)\n",
    "        crds_holder = simulation.calculate_add('crds', period)\n",
    "        \n",
    "        pen = self.sum_by_entity(pen_holder)\n",
    "        ppe = self.cast_from_entity_to_role(ppe_holder, role = VOUS)\n",
    "        ppe = self.sum_by_entity(ppe)\n",
    "        prestations_sociales = self.cast_from_entity_to_role(prestations_sociales_holder, role = CHEF)\n",
    "        prestations_sociales = self.sum_by_entity(prestations_sociales)\n",
    "        rev_cap = self.sum_by_entity(rev_cap_holder)\n",
    "        revenus_du_travail = self.sum_by_entity(revenus_du_travail_holder)\n",
    "        rdb = self.sum_by_entity(rdb_holder)\n",
    "        rdb_enf = self.sum_by_entity(rdb_enf_holder)\n",
    "        csg_imposable_salaire = self.sum_by_entity(csg_imposable_salaire_holder)\n",
    "        csg_imposable_retraite = self.sum_by_entity(csg_imposable_retraite_holder)\n",
    "        crds = self.sum_by_entity(crds_holder)\n",
    "    \n",
    "        return ( \n",
    "            revenus_du_travail + pen + rev_cap + prestations_sociales + ppe + impots_directs + \n",
    "            rdb + rdb_enf +\n",
    "            csg_imposable_salaire + csg_imposable_retraite + crds\n",
    "            )"
   ]
  },
  {
   "cell_type": "code",
   "execution_count": 41,
   "metadata": {
    "collapsed": false
   },
   "outputs": [],
   "source": [
    "class ReformeRevenuDeBaseparCSG(Reform):\n",
    "    name = u\"Réforme Revenu de base par CSG\"\n",
    "\n",
    "    def apply(self):\n",
    "        # Suppression de variables\n",
    "        self.neutralize_variable('af')\n",
    "        self.neutralize_variable('cf')\n",
    "        self.neutralize_variable('ars')\n",
    "        self.neutralize_variable('rsa_socle')\n",
    "        self.neutralize_variable('rsa')\n",
    "        self.neutralize_variable('ppa')\n",
    "     \n",
    "        # Mise à jour de variables\n",
    "        for variable in [rdb, rdb_enf, revenu_disponible]:\n",
    "            self.update_variable(variable)\n",
    "            \n",
    "        # Mise à jour des paramètres de la législation\n",
    "        self.modify_legislation_json(modifier_function = modify_legislation_json)"
   ]
  },
  {
   "cell_type": "markdown",
   "metadata": {},
   "source": [
    "## 3. Tests"
   ]
  },
  {
   "cell_type": "code",
   "execution_count": 42,
   "metadata": {
    "collapsed": false
   },
   "outputs": [],
   "source": [
    "reform = ReformeRevenuDeBaseparCSG(tax_benefit_system)"
   ]
  },
  {
   "cell_type": "code",
   "execution_count": 61,
   "metadata": {
    "collapsed": false
   },
   "outputs": [],
   "source": [
    "# Initialisation du montant des salaires des 2 parents\n",
    "\n",
    "parent1_salaire_de_base = 50000\n",
    "parent2_salaire_de_base = 30000\n"
   ]
  },
  {
   "cell_type": "code",
   "execution_count": 62,
   "metadata": {
    "collapsed": false
   },
   "outputs": [],
   "source": [
    "scenario_ref_individu_seul = tax_benefit_system.new_scenario().init_single_entity(\n",
    "    period = 2016,\n",
    "    parent1 = dict(\n",
    "        date_naissance = date(1980, 1, 1),\n",
    "        salaire_de_base = parent1_salaire_de_base,\n",
    "        statut_marital = u'Célibataire',\n",
    "        ),\n",
    "    parent2 = dict(\n",
    "        date_naissance = date(1980, 1, 1),\n",
    "        salaire_de_base = parent2_salaire_de_base,\n",
    "        statut_marital = u'Célibataire',\n",
    "        ),\n",
    "    foyer_fiscal = dict(\n",
    "        caseT = True,        \n",
    "        ),\n",
    "    enfants = [\n",
    "        dict(date_naissance = date(2005, 1, 1)),\n",
    "        dict(date_naissance = date(2011, 1, 1)),\n",
    "     ],\n",
    "    menage = dict(\n",
    "         loyer = 0,\n",
    "         statut_occupation_logement = 4,\n",
    "         zone_apl = 1,\n",
    "         ),\n",
    "        \n",
    "    )"
   ]
  },
  {
   "cell_type": "code",
   "execution_count": 63,
   "metadata": {
    "collapsed": false
   },
   "outputs": [],
   "source": [
    "simulation_ref_individu_seul = scenario_ref_individu_seul.new_simulation(debug = True)"
   ]
  },
  {
   "cell_type": "code",
   "execution_count": 64,
   "metadata": {
    "collapsed": false
   },
   "outputs": [],
   "source": [
    "scenario_rdb_individu_seul = reform.new_scenario().init_single_entity(\n",
    "    period = 2016,\n",
    "    parent1 = dict(\n",
    "        date_naissance = date(1980, 1, 1),\n",
    "        salaire_de_base = parent1_salaire_de_base,\n",
    "        statut_marital = u'Célibataire',\n",
    "        ),\n",
    "    parent2 = dict(\n",
    "        date_naissance = date(1980, 1, 1),\n",
    "        salaire_de_base = parent2_salaire_de_base,\n",
    "        statut_marital = u'Célibataire',\n",
    "        ),\n",
    "    foyer_fiscal = dict(\n",
    "        caseT = True,\n",
    "                ),\n",
    "    enfants = [\n",
    "        dict(date_naissance = date(2005, 1, 1)),\n",
    "        dict(date_naissance = date(2011, 1, 1)),\n",
    "     ],\n",
    "    menage = dict(\n",
    "         loyer = 0,\n",
    "         statut_occupation_logement = 4,\n",
    "         zone_apl = 1,\n",
    "         ),\n",
    "    \n",
    "    )"
   ]
  },
  {
   "cell_type": "code",
   "execution_count": 65,
   "metadata": {
    "collapsed": false
   },
   "outputs": [],
   "source": [
    "simulation_rdb_individu_seul = scenario_rdb_individu_seul.new_simulation(debug = True)"
   ]
  },
  {
   "cell_type": "markdown",
   "metadata": {},
   "source": [
    "### Calculs de référence des variables les plus pertinentes dans le système actuel\n"
   ]
  },
  {
   "cell_type": "code",
   "execution_count": 66,
   "metadata": {
    "collapsed": false
   },
   "outputs": [
    {
     "data": {
      "text/plain": [
       "array([-564.1762085], dtype=float32)"
      ]
     },
     "execution_count": 66,
     "metadata": {},
     "output_type": "execute_result"
    }
   ],
   "source": [
    "simulation_ref_individu_seul.calculate_add('irpp', period)/12"
   ]
  },
  {
   "cell_type": "code",
   "execution_count": 67,
   "metadata": {
    "collapsed": false
   },
   "outputs": [
    {
     "data": {
      "text/plain": [
       "array([ 60329.65234375], dtype=float32)"
      ]
     },
     "execution_count": 67,
     "metadata": {},
     "output_type": "execute_result"
    }
   ],
   "source": [
    "simulation_ref_individu_seul.calculate('revenu_disponible', period)"
   ]
  },
  {
   "cell_type": "code",
   "execution_count": 69,
   "metadata": {
    "collapsed": false
   },
   "outputs": [
    {
     "data": {
      "text/plain": [
       "array([-1178.99902344,  -707.40008545,    -0.        ,    -0.        ], dtype=float32)"
      ]
     },
     "execution_count": 69,
     "metadata": {},
     "output_type": "execute_result"
    }
   ],
   "source": [
    "simulation_ref_individu_seul.calculate_add('csg_imposable_salaire', period)"
   ]
  },
  {
   "cell_type": "code",
   "execution_count": 70,
   "metadata": {
    "collapsed": false
   },
   "outputs": [
    {
     "data": {
      "text/plain": [
       "array([-2505.37231445, -1503.22509766,    -0.        ,    -0.        ], dtype=float32)"
      ]
     },
     "execution_count": 70,
     "metadata": {},
     "output_type": "execute_result"
    }
   ],
   "source": [
    "simulation_ref_individu_seul.calculate_add('csg_deductible_salaire', period)"
   ]
  },
  {
   "cell_type": "code",
   "execution_count": 71,
   "metadata": {
    "collapsed": false
   },
   "outputs": [
    {
     "data": {
      "text/plain": [
       "array([-3684.37133789, -2210.62524414,     0.        ,     0.        ], dtype=float32)"
      ]
     },
     "execution_count": 71,
     "metadata": {},
     "output_type": "execute_result"
    }
   ],
   "source": [
    "simulation_ref_individu_seul.calculate_add('csg', period)"
   ]
  },
  {
   "cell_type": "markdown",
   "metadata": {},
   "source": [
    "### Calculs de référence des variables les plus pertinentes dans le système réformé avec un revenu de base"
   ]
  },
  {
   "cell_type": "code",
   "execution_count": 72,
   "metadata": {
    "collapsed": false
   },
   "outputs": [
    {
     "data": {
      "text/plain": [
       "array([-654.36621094], dtype=float32)"
      ]
     },
     "execution_count": 72,
     "metadata": {},
     "output_type": "execute_result"
    }
   ],
   "source": [
    "simulation_rdb_individu_seul.calculate('irpp', period)/12"
   ]
  },
  {
   "cell_type": "code",
   "execution_count": 73,
   "metadata": {
    "collapsed": false
   },
   "outputs": [
    {
     "data": {
      "text/plain": [
       "array([ 56215.16015625], dtype=float32)"
      ]
     },
     "execution_count": 73,
     "metadata": {},
     "output_type": "execute_result"
    }
   ],
   "source": [
    "simulation_rdb_individu_seul.calculate('revenu_disponible', period)"
   ]
  },
  {
   "cell_type": "code",
   "execution_count": 74,
   "metadata": {
    "collapsed": false
   },
   "outputs": [
    {
     "data": {
      "text/plain": [
       "array([ 500.,  500.,    0.,    0.], dtype=float32)"
      ]
     },
     "execution_count": 74,
     "metadata": {},
     "output_type": "execute_result"
    }
   ],
   "source": [
    "simulation_rdb_individu_seul.calculate_add('rdb', period)/12"
   ]
  },
  {
   "cell_type": "code",
   "execution_count": 75,
   "metadata": {
    "collapsed": false
   },
   "outputs": [
    {
     "data": {
      "text/plain": [
       "array([   0.,    0.,  250.,  250.], dtype=float32)"
      ]
     },
     "execution_count": 75,
     "metadata": {},
     "output_type": "execute_result"
    }
   ],
   "source": [
    "simulation_rdb_individu_seul.calculate_add('rdb_enf', period)/12"
   ]
  },
  {
   "cell_type": "code",
   "execution_count": 76,
   "metadata": {
    "collapsed": false
   },
   "outputs": [
    {
     "data": {
      "text/plain": [
       "array([-13967.69824219,  -8380.62792969,     -0.        ,     -0.        ], dtype=float32)"
      ]
     },
     "execution_count": 76,
     "metadata": {},
     "output_type": "execute_result"
    }
   ],
   "source": [
    "simulation_rdb_individu_seul.calculate_add('csg_imposable_salaire', period)"
   ]
  },
  {
   "cell_type": "code",
   "execution_count": 77,
   "metadata": {
    "collapsed": false
   },
   "outputs": [
    {
     "data": {
      "text/plain": [
       "array([-0., -0., -0., -0.], dtype=float32)"
      ]
     },
     "execution_count": 77,
     "metadata": {},
     "output_type": "execute_result"
    }
   ],
   "source": [
    "simulation_rdb_individu_seul.calculate_add('csg_deductible_salaire', period)"
   ]
  },
  {
   "cell_type": "code",
   "execution_count": 78,
   "metadata": {
    "collapsed": false
   },
   "outputs": [
    {
     "data": {
      "text/plain": [
       "array([-13967.69824219,  -8380.62792969,      0.        ,      0.        ], dtype=float32)"
      ]
     },
     "execution_count": 78,
     "metadata": {},
     "output_type": "execute_result"
    }
   ],
   "source": [
    "simulation_rdb_individu_seul.calculate_add('csg', period)"
   ]
  },
  {
   "cell_type": "code",
   "execution_count": null,
   "metadata": {
    "collapsed": true
   },
   "outputs": [],
   "source": []
  },
  {
   "cell_type": "code",
   "execution_count": null,
   "metadata": {
    "collapsed": true
   },
   "outputs": [],
   "source": []
  },
  {
   "cell_type": "code",
   "execution_count": null,
   "metadata": {
    "collapsed": true
   },
   "outputs": [],
   "source": []
  }
 ],
 "metadata": {
  "kernelspec": {
   "display_name": "Python 2",
   "language": "python",
   "name": "python2"
  },
  "language_info": {
   "codemirror_mode": {
    "name": "ipython",
    "version": 2
   },
   "file_extension": ".py",
   "mimetype": "text/x-python",
   "name": "python",
   "nbconvert_exporter": "python",
   "pygments_lexer": "ipython2",
   "version": "2.7.12"
  }
 },
 "nbformat": 4,
 "nbformat_minor": 0
}
